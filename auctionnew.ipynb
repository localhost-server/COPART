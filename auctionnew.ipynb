{
 "cells": [
  {
   "cell_type": "code",
   "execution_count": null,
   "metadata": {},
   "outputs": [],
   "source": [
    "from playwright.async_api import async_playwright\n",
    "# from undetected_playwright.async_api import async_playwright\n",
    "import time\n",
    "# from PIL import Image\n",
    "import asyncio\n",
    "import subprocess\n",
    "import re"
   ]
  },
  {
   "cell_type": "code",
   "execution_count": null,
   "metadata": {},
   "outputs": [],
   "source": [
    "async def open_browser(page):\n",
    "    # await page.set_viewport_size({'width': 1920, 'height': 1080})\n",
    "    # await page.set_viewport_size({'width': 1600, 'height': 900})\n",
    "    await page.emulate_media(color_scheme='dark')\n",
    "    # weblink=\"https://www.iaai.com/VehicleDetail/39554640~US\"\n",
    "    # weblink=\"https://www.iaai.com\"\n",
    "    weblink=\"https://www.copart.com/login/\"\n",
    "    await page.goto(weblink, wait_until='load')\n",
    "    return page"
   ]
  },
  {
   "cell_type": "code",
   "execution_count": null,
   "metadata": {},
   "outputs": [],
   "source": [
    "playwright = await async_playwright().start()\n",
    "args = []\n",
    "# disable navigator.webdriver:true flag\n",
    "# args.append(\"--disable-blink-features=AutomationControlled\")\n",
    "\n",
    "# browser = await playwright.chromium.launch(args=args,headless=False)\n",
    "browser = await playwright.chromium.launch(headless=False)\n",
    "# browser = await playwright.firefox.launch(headless=False)\n",
    "# browser = playwright.firefox.launch(headless=False)\n",
    "context = await browser.new_context()\n",
    "page = await context.new_page()\n",
    "browse =await open_browser(page=page)\n",
    "# Waiting for the page to load\n",
    "time.sleep(5)"
   ]
  },
  {
   "cell_type": "code",
   "execution_count": null,
   "metadata": {},
   "outputs": [],
   "source": [
    "# Find the email input field by its ID\n",
    "email_input = await page.query_selector('#username')\n",
    "\n",
    "# Enter the desired content\n",
    "email = \"matti19913@gmail.com\"\n",
    "await email_input.fill(email)\n",
    "\n",
    "password_input = await page.query_selector('#password')\n",
    "\n",
    "# Clear the existing value (if any)\n",
    "await password_input.fill('')\n",
    "\n",
    "# Enter the desired content\n",
    "password = \"Copart2023!\"\n",
    "await password_input.fill(password)\n",
    "\n",
    "# Clicking on the remember me checkbox\n",
    "await page.click('text=Remember?')\n",
    "\n",
    "# Clicking on the login button\n",
    "await page.click('text=Sign Into Your Account')\n",
    "# Waiting for the page to load\n",
    "await asyncio.sleep(5)"
   ]
  },
  {
   "cell_type": "code",
   "execution_count": null,
   "metadata": {},
   "outputs": [],
   "source": [
    "# await page.click('button#onetrust-accept-btn-handler')"
   ]
  },
  {
   "cell_type": "code",
   "execution_count": null,
   "metadata": {},
   "outputs": [],
   "source": [
    "import pymongo\n",
    "import os\n",
    "from dotenv import load_dotenv\n",
    "load_dotenv()\n",
    "\n",
    "client = pymongo.MongoClient(os.getenv(\"MONGO_URI\"))\n",
    "db = client['Copart']\n",
    "collection = db['AuctionLinks']\n",
    "# collection.delete_many({})\n",
    "\n",
    "count=0\n",
    "opened_links = 0\n"
   ]
  },
  {
   "cell_type": "code",
   "execution_count": null,
   "metadata": {},
   "outputs": [],
   "source": [
    "# await page.goto(\"https://www.copart.com/auctionDashboard\")\n",
    "# await page.goto(\"https://www.copart.com/todaysAuction\")"
   ]
  },
  {
   "cell_type": "code",
   "execution_count": null,
   "metadata": {},
   "outputs": [],
   "source": [
    "# all_auctions=await page.query_selector_all('a.btn.btn-green.joinsearch.small')\n",
    "# print(all_auctions)\n",
    "# print(f\"Total Auctions: {len(all_auctions)}\")"
   ]
  },
  {
   "cell_type": "code",
   "execution_count": null,
   "metadata": {},
   "outputs": [],
   "source": [
    "# print(f\"Total Auctions: {len(all_auctions)}\")\n",
    "# while all_auctions:\n",
    "#     i=all_auctions.pop()\n",
    "#     link_element = await i.get_attribute(\"href\")\n",
    "#     relative_url = link_element.lstrip('.')\n",
    "#     whole_url = \"https://www.copart.com\"+relative_url\n",
    "#     if collection.find_one({'link': whole_url}) is None:\n",
    "#         print(whole_url)\n",
    "#         # Upload the link to MongoDB\n",
    "#         collection.insert_one({'link': whole_url, 'Info': \"None\"})"
   ]
  },
  {
   "cell_type": "code",
   "execution_count": null,
   "metadata": {},
   "outputs": [],
   "source": [
    "cursor = collection.find({\"Info\": \"None\"})\n",
    "instances={}\n",
    "elements={}\n",
    "opened_links = 0\n",
    "data={}"
   ]
  },
  {
   "cell_type": "code",
   "execution_count": null,
   "metadata": {},
   "outputs": [],
   "source": [
    "# while opened_links<10:\n",
    "#     cursor = collection.find_one_and_update({\"Info\": \"None\"}, {\"$set\": {\"Info\": \"Processing\"}})\n",
    "#     auction_link = cursor['link']\n",
    "#     print(auction_link)\n",
    "#     await page.goto(auction_link)"
   ]
  },
  {
   "cell_type": "code",
   "execution_count": null,
   "metadata": {},
   "outputs": [],
   "source": [
    "cursor = collection.find_one_and_update({\"Info\": \"None\"}, {\"$set\": {\"Info\": \"Processing\"}})\n",
    "auction_link = cursor['link']\n",
    "print(auction_link)\n",
    "await page.goto(auction_link)"
   ]
  },
  {
   "cell_type": "code",
   "execution_count": null,
   "metadata": {},
   "outputs": [],
   "source": [
    "iframe_element=await page.query_selector('div.auction5iframe')\n",
    "iframe=await iframe_element.query_selector(\"iframe\")\n",
    "content = await iframe.content_frame()"
   ]
  },
  {
   "cell_type": "code",
   "execution_count": null,
   "metadata": {},
   "outputs": [],
   "source": [
    "\n",
    "await asyncio.sleep(5)\n",
    "while len(await content.query_selector_all('gridster-item.ng-star-inserted'))<10:\n",
    "    add_auction=await content.wait_for_selector('span.nav-option-on.addauctionbtn')\n",
    "    await asyncio.sleep(2)\n",
    "    await add_auction.click()\n",
    "    all_auctions=await content.query_selector_all('text.ng-star-inserted')\n",
    "# await content.click('span.nav-option-on')"
   ]
  },
  {
   "cell_type": "code",
   "execution_count": null,
   "metadata": {},
   "outputs": [],
   "source": [
    "baseauction_url=\"https://www.copart.com/auctionDashboard?auctionDetails=\""
   ]
  },
  {
   "cell_type": "code",
   "execution_count": null,
   "metadata": {},
   "outputs": [],
   "source": [
    "# openeing the auction link\n",
    "# checking auction sections\n",
    "all_auctions=await content.query_selector_all('gridster-item.ng-star-inserted')\n",
    "# len(all_auctions)"
   ]
  },
  {
   "cell_type": "code",
   "execution_count": null,
   "metadata": {},
   "outputs": [],
   "source": [
    "# For managing the auction\n",
    "collected_auctions=set()\n",
    "for check in all_auctions:\n",
    "    if await check.query_selector('tr.liveAuction.ng-star-inserted'):\n",
    "        # checking the first join button\n",
    "        join_button=await check.query_selector('tr.liveAuction.ng-star-inserted')\n",
    "        # checking the auction\n",
    "        locale=await check.query_selector('div.yardName-MACRO')\n",
    "        auction_locale=await locale.get_attribute('title')\n",
    "        auction_locale=auction_locale.split(\" - \")[-1]\n",
    "        auction_locale = re.sub(r'(\\d)([A-Za-z])$', r'\\1-\\2', auction_locale)\n",
    "        print(auction_locale)\n",
    "        # clicking on the join button\n",
    "        await join_button.click()\n",
    "        complete_link = baseauction_url+auction_locale\n",
    "        collection.find_one_and_update({\"link\": complete_link}, {\"$set\": {\"Info\": \"Processing\"}})\n",
    "        collected_auctions.add(baseauction_url+auction_locale)"
   ]
  },
  {
   "cell_type": "code",
   "execution_count": null,
   "metadata": {},
   "outputs": [],
   "source": [
    "# data={}\n",
    "count=0\n",
    "while True:\n",
    "    count+=1\n",
    "    all_ended_auctions=[i for i in all_auctions if await i.query_selector('div.sale-end.text-center')]\n",
    "    if (len(all_auctions)==len(all_ended_auctions)) or (all_ended_auctions>6):\n",
    "        print(\"No of auctions ended: \",len(all_ended_auctions))\n",
    "        break\n",
    "\n",
    "    for check in all_auctions:\n",
    "        # For extracting data from auction\n",
    "        car_link=await check.query_selector('a.titlelbl.ellipsis')\n",
    "        try:\n",
    "            link=await car_link.get_attribute(\"href\")\n",
    "            # print(link)\n",
    "            if \"https\" in link:\n",
    "                car_price=await check.query_selector('text.ng-star-inserted')\n",
    "                checked=await car_price.text_content()\n",
    "                price=checked.replace(\"\\n\",\"\").replace(\" \",\"\")\n",
    "                if \"$\" in price:\n",
    "                    data[link]=price\n",
    "\n",
    "            # Convert price to a number, assuming it's a string like \"$1000\"\n",
    "            new_price = float(price.replace(\"$\", \"\").replace(\",\",\"\")) if price and \"$\" in price else 0\n",
    "            if str(link) in data:\n",
    "                # Get the existing price and convert it to a number\n",
    "                existing_price = float(data[str(link)].replace(\"$\", \"\").replace(\",\",\"\")) if data[str(link)] else 0\n",
    "\n",
    "                # Update the price only if the new price is greater than the existing one\n",
    "                if new_price > existing_price:\n",
    "                    data[str(link)] = price\n",
    "\n",
    "                    # print({link: price}, end=' , ')\n",
    "            else:\n",
    "                # If the identity link is not in data, add it\n",
    "                data[str(link)] = price\n",
    "            # print({link: price}, end=' , ')\n",
    "        except:\n",
    "            pass\n",
    "    if count>25:\n",
    "        print(data)\n",
    "        iframe_element=await page.query_selector('div.auction5iframe')\n",
    "        iframe=await iframe_element.query_selector(\"iframe\")\n",
    "        content = await iframe.content_frame()\n",
    "        all_auctions=await content.query_selector_all('gridster-item.ng-star-inserted')\n",
    "        count=0"
   ]
  },
  {
   "cell_type": "code",
   "execution_count": null,
   "metadata": {},
   "outputs": [],
   "source": [
    "await page.close()\n",
    "await browser.close()"
   ]
  },
  {
   "cell_type": "code",
   "execution_count": null,
   "metadata": {},
   "outputs": [],
   "source": [
    "from datetime import datetime\n",
    "import pytz\n",
    "cdt=pytz.timezone('America/Chicago')\n",
    "\n",
    "data_list = [{\"carLink\": k, \"price\": v , \"date\": datetime.now(cdt).date().strftime(\"%d-%m-%Y\").replace('-','.')} for k, v in data.items() if k != 'None' and v != \"\"]\n",
    "carLink_list = [i['carLink'] for i in data_list]\n",
    "\n",
    "subprocess.Popen([\"python3\", \"check_link.py\", ' '.join(carLink_list)])\n",
    "print(f\"Data captured of {len(data_list)} cars\")\n",
    "print(data_list)\n",
    "\n",
    "from pymongo import UpdateOne\n",
    "# Prepare bulk write operations\n",
    "operations = []\n",
    "for carsdata in data_list:\n",
    "    price_obj = {\"date\": carsdata[\"date\"], \"price\": carsdata[\"price\"]}\n",
    "    operations.append(\n",
    "        UpdateOne(\n",
    "            {\"carLink\": carsdata[\"carLink\"]},\n",
    "            {\"$push\": {\"prices\": price_obj}, \"$setOnInsert\": {\"carLink\": carsdata[\"carLink\"]}},\n",
    "            upsert=True\n",
    "        )\n",
    "    )\n",
    "\n",
    "carsPrice_collection = db['CarsPrice']\n",
    "# Execute bulk write operations\n",
    "carsPrice_collection.bulk_write(operations)\n",
    "# collection.insert_many(data_list)\n",
    "        "
   ]
  },
  {
   "cell_type": "code",
   "execution_count": null,
   "metadata": {},
   "outputs": [],
   "source": [
    "for auction in collected_auctions:\n",
    "    collection.find_one_and_update({\"link\": auction}, {\"$set\": {\"Info\": \"done\"}})"
   ]
  },
  {
   "cell_type": "code",
   "execution_count": null,
   "metadata": {},
   "outputs": [],
   "source": [
    "collected_auctions"
   ]
  },
  {
   "cell_type": "code",
   "execution_count": null,
   "metadata": {},
   "outputs": [],
   "source": []
  },
  {
   "cell_type": "code",
   "execution_count": null,
   "metadata": {},
   "outputs": [],
   "source": []
  },
  {
   "cell_type": "code",
   "execution_count": null,
   "metadata": {},
   "outputs": [],
   "source": []
  },
  {
   "cell_type": "code",
   "execution_count": null,
   "metadata": {},
   "outputs": [],
   "source": [
    "count=0\n",
    "\n",
    "for document in cursor:\n",
    "    link=document['link']\n",
    "    if link not in instances:\n",
    "        instances[link]=await context.new_page()\n",
    "        await instances[link].goto(link)\n",
    "        count+=1\n",
    "        print(count)\n",
    "    # break\n",
    "    await asyncio.sleep(5)\n",
    "    if count==5:\n",
    "        break\n"
   ]
  },
  {
   "cell_type": "code",
   "execution_count": null,
   "metadata": {},
   "outputs": [],
   "source": [
    "# while True:\n",
    "#     for i in instances:  \n",
    "#         try:\n",
    "#             # car_link=await iframe_content.query_selector('a.titlelbl.ellipsis')\n",
    "#             car_link=await instances[i].wait_for_selector('a.titlelbl.ellipsis')\n",
    "#             link=await car_link.get_attribute(\"href\")\n",
    "#             if \"https\" in link:\n",
    "#                 # car_price=await iframe_content.query_selector('text.ng-star-inserted')\n",
    "#                 car_price=await instances[i].wait_for_selector('text.ng-star-inserted')\n",
    "#                 checked=await car_price.text_content()\n",
    "#                 checked=checked.replace(\"\\n\",\"\").replace(\" \",\"\")\n",
    "#                 if \"$\" in checked:\n",
    "#                     data[link]=checked\n",
    "#         except:\n",
    "#             check=await instances[i].query_selector('div.sale-end.text-center')\n",
    "#             if await check.text_content() == \"Auction Ended\":\n",
    "#                 print(\"Auction Ended\")\n",
    "#                 # update the database\n",
    "#                 collection.update_one({'link': i}, {'$set': {'Info': \"Auction Ended\"}})\n",
    "#                 await instances[i].close()"
   ]
  },
  {
   "cell_type": "code",
   "execution_count": null,
   "metadata": {},
   "outputs": [],
   "source": [
    "# NewPage = await context.new_page()\n",
    "# auction_link=collection.find_one({'Info': \"None\"})[\"link\"]\n",
    "# print(auction_link)"
   ]
  },
  {
   "cell_type": "code",
   "execution_count": null,
   "metadata": {},
   "outputs": [],
   "source": [
    "# for i in instances:\n",
    "#     print(i)\n",
    "#     await instances[i].close()\n",
    "    # await asyncio.sleep(5)"
   ]
  },
  {
   "cell_type": "code",
   "execution_count": null,
   "metadata": {},
   "outputs": [],
   "source": [
    "# await NewPage.goto(auction_link)"
   ]
  },
  {
   "cell_type": "code",
   "execution_count": null,
   "metadata": {},
   "outputs": [],
   "source": [
    "for i in instances:\n",
    "    iframe_element=await instances[i].query_selector('div.auction5iframe')\n",
    "    elements[i]=await iframe_element.query_selector(\"iframe\")\n",
    "    elements[i] = await elements[i].content_frame()"
   ]
  },
  {
   "cell_type": "code",
   "execution_count": null,
   "metadata": {},
   "outputs": [],
   "source": [
    "# <div _ngcontent-c10=\"\" class=\"sale-end text-center\">Auction Ended</div>\n",
    "# for i in instances:\n",
    "#     instances[i]=await instances[i].query_selector('div.auction5iframe')"
   ]
  },
  {
   "cell_type": "code",
   "execution_count": null,
   "metadata": {},
   "outputs": [],
   "source": [
    "# html=await check.query_selector(\"iframe\")\n",
    "# iframe_content = await html.content_frame()"
   ]
  },
  {
   "cell_type": "code",
   "execution_count": null,
   "metadata": {},
   "outputs": [],
   "source": [
    "data={}"
   ]
  },
  {
   "cell_type": "code",
   "execution_count": null,
   "metadata": {},
   "outputs": [],
   "source": [
    "while elements:\n",
    "    for i in elements:  \n",
    "        try:\n",
    "            # car_link=await iframe_content.query_selector('a.titlelbl.ellipsis')\n",
    "            car_link=await elements[i].wait_for_selector('a.titlelbl.ellipsis')\n",
    "            link=await car_link.get_attribute(\"href\")\n",
    "            if \"https\" in link:\n",
    "                # car_price=await iframe_content.query_selector('text.ng-star-inserted')\n",
    "                car_price=await elements[i].wait_for_selector('text.ng-star-inserted')\n",
    "                checked=await car_price.text_content()\n",
    "                checked=checked.replace(\"\\n\",\"\").replace(\" \",\"\")\n",
    "                if \"$\" in checked:\n",
    "                    data[link]=checked\n",
    "        except:\n",
    "            check=await elements[i].query_selector('div.sale-end.text-center')\n",
    "            if await check.text_content() == \"Auction Ended\":\n",
    "                print(\"Auction Ended\")\n",
    "                await instances[i].close()\n",
    "                del instances[i]\n",
    "                del elements[i]\n",
    "                \n",
    "    # print(data)"
   ]
  },
  {
   "cell_type": "code",
   "execution_count": null,
   "metadata": {},
   "outputs": [],
   "source": [
    "print(data)"
   ]
  },
  {
   "cell_type": "code",
   "execution_count": null,
   "metadata": {},
   "outputs": [],
   "source": [
    "for i in elements:\n",
    "    check=await elements[i].query_selector('div.sale-end.text-center')\n",
    "    if await check.text_content() == \"Auction Ended\":\n",
    "        print(\"Auction Ended\")"
   ]
  },
  {
   "cell_type": "code",
   "execution_count": null,
   "metadata": {},
   "outputs": [],
   "source": [
    "# while True :\n",
    "#     car_link=await iframe_content.query_selector('a.titlelbl.ellipsis')\n",
    "#     link=await car_link.get_attribute(\"href\")\n",
    "#     if \"https\" in link:\n",
    "#         car_price=await iframe_content.query_selector('text.ng-star-inserted')\n",
    "#         checked=await car_price.text_content()\n",
    "#         checked=checked.replace(\"\\n\",\"\").replace(\" \",\"\")\n",
    "#         if \"$\" in checked:\n",
    "#             data[link]=checked\n",
    "    # print(data)"
   ]
  }
 ],
 "metadata": {
  "kernelspec": {
   "display_name": "Python 3 (ipykernel)",
   "language": "python",
   "name": "python3"
  },
  "language_info": {
   "codemirror_mode": {
    "name": "ipython",
    "version": 3
   },
   "file_extension": ".py",
   "mimetype": "text/x-python",
   "name": "python",
   "nbconvert_exporter": "python",
   "pygments_lexer": "ipython3",
   "version": "3.10.14"
  }
 },
 "nbformat": 4,
 "nbformat_minor": 4
}
